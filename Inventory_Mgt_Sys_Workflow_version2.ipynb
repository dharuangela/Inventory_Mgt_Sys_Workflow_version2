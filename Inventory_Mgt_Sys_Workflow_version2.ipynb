{
  "nbformat": 4,
  "nbformat_minor": 0,
  "metadata": {
    "colab": {
      "provenance": []
    },
    "kernelspec": {
      "name": "python3",
      "display_name": "Python 3"
    },
    "language_info": {
      "name": "python"
    }
  },
  "cells": [
    {
      "cell_type": "code",
      "execution_count": 1,
      "metadata": {
        "id": "17vJ9AuNPXZ6"
      },
      "outputs": [],
      "source": [
        "# Create a DB\n",
        "\n",
        "db = {101:{\"Name\": \"apple\", \"Quantity\": 10, \"Price\": 50},\n",
        " 102:{\"Name\": \"orange\", \"Quantity\": 20, \"Price\": 25},}"
      ]
    },
    {
      "cell_type": "code",
      "source": [
        "db"
      ],
      "metadata": {
        "colab": {
          "base_uri": "https://localhost:8080/"
        },
        "id": "DkB0X-kYPpS9",
        "outputId": "0912897a-d83b-4e0b-a04e-07575c659eee"
      },
      "execution_count": 2,
      "outputs": [
        {
          "output_type": "execute_result",
          "data": {
            "text/plain": [
              "{101: {'Name': 'apple', 'Quantity': 10, 'Price': 50},\n",
              " 102: {'Name': 'orange', 'Quantity': 20, 'Price': 25}}"
            ]
          },
          "metadata": {},
          "execution_count": 2
        }
      ]
    },
    {
      "cell_type": "code",
      "source": [
        "# Add a product to DB\n",
        "db[103] = {\"Name\": \"Banana\", \"Quantity\": 30, \"Price\": 10}"
      ],
      "metadata": {
        "id": "JFHzhtW0PpP8"
      },
      "execution_count": 3,
      "outputs": []
    },
    {
      "cell_type": "code",
      "source": [
        "db"
      ],
      "metadata": {
        "colab": {
          "base_uri": "https://localhost:8080/"
        },
        "id": "tKPq7HZjPpNX",
        "outputId": "0dc78814-e2aa-495a-87e6-966980b1914b"
      },
      "execution_count": 4,
      "outputs": [
        {
          "output_type": "execute_result",
          "data": {
            "text/plain": [
              "{101: {'Name': 'apple', 'Quantity': 10, 'Price': 50},\n",
              " 102: {'Name': 'orange', 'Quantity': 20, 'Price': 25},\n",
              " 103: {'Name': 'Banana', 'Quantity': 30, 'Price': 10}}"
            ]
          },
          "metadata": {},
          "execution_count": 4
        }
      ]
    },
    {
      "cell_type": "code",
      "source": [
        "# Reducing Quantity\n",
        "db[101]"
      ],
      "metadata": {
        "colab": {
          "base_uri": "https://localhost:8080/"
        },
        "id": "EmpfcSJ4PpKq",
        "outputId": "d9bfbe6b-255b-483f-cdbd-c754bd7fef7e"
      },
      "execution_count": 5,
      "outputs": [
        {
          "output_type": "execute_result",
          "data": {
            "text/plain": [
              "{'Name': 'apple', 'Quantity': 10, 'Price': 50}"
            ]
          },
          "metadata": {},
          "execution_count": 5
        }
      ]
    },
    {
      "cell_type": "code",
      "source": [
        "db[101][\"Quantity\"]"
      ],
      "metadata": {
        "colab": {
          "base_uri": "https://localhost:8080/"
        },
        "id": "R6Mr-WGHPpHr",
        "outputId": "fc29fd8b-17d2-4949-83a3-c660822d9f00"
      },
      "execution_count": 6,
      "outputs": [
        {
          "output_type": "execute_result",
          "data": {
            "text/plain": [
              "10"
            ]
          },
          "metadata": {},
          "execution_count": 6
        }
      ]
    },
    {
      "cell_type": "code",
      "source": [
        "db[101][\"Quantity\"]-2"
      ],
      "metadata": {
        "colab": {
          "base_uri": "https://localhost:8080/"
        },
        "id": "WrvBa3GZPpB1",
        "outputId": "50918d12-5ac0-4667-e0ab-229bf194abff"
      },
      "execution_count": 7,
      "outputs": [
        {
          "output_type": "execute_result",
          "data": {
            "text/plain": [
              "8"
            ]
          },
          "metadata": {},
          "execution_count": 7
        }
      ]
    },
    {
      "cell_type": "code",
      "source": [
        "db[101]['Quantity']= db[101][\"Quantity\"]-2"
      ],
      "metadata": {
        "id": "rN9IgI5wPo_E"
      },
      "execution_count": 8,
      "outputs": []
    },
    {
      "cell_type": "code",
      "source": [
        "db"
      ],
      "metadata": {
        "colab": {
          "base_uri": "https://localhost:8080/"
        },
        "id": "91JvATD-RaVl",
        "outputId": "ec9165d7-f14f-4c1e-f3c1-c51e20774639"
      },
      "execution_count": 9,
      "outputs": [
        {
          "output_type": "execute_result",
          "data": {
            "text/plain": [
              "{101: {'Name': 'apple', 'Quantity': 8, 'Price': 50},\n",
              " 102: {'Name': 'orange', 'Quantity': 20, 'Price': 25},\n",
              " 103: {'Name': 'Banana', 'Quantity': 30, 'Price': 10}}"
            ]
          },
          "metadata": {},
          "execution_count": 9
        }
      ]
    },
    {
      "cell_type": "code",
      "source": [
        "# Deleting a Record\n",
        "db[103]"
      ],
      "metadata": {
        "colab": {
          "base_uri": "https://localhost:8080/"
        },
        "id": "-Dm_-eMcRdV8",
        "outputId": "a11157c5-bd6b-4609-d1a6-ce2168271422"
      },
      "execution_count": 10,
      "outputs": [
        {
          "output_type": "execute_result",
          "data": {
            "text/plain": [
              "{'Name': 'Banana', 'Quantity': 30, 'Price': 10}"
            ]
          },
          "metadata": {},
          "execution_count": 10
        }
      ]
    },
    {
      "cell_type": "code",
      "source": [
        "del db[103]"
      ],
      "metadata": {
        "id": "7Aj78ZGTReL9"
      },
      "execution_count": 11,
      "outputs": []
    },
    {
      "cell_type": "code",
      "source": [
        "db"
      ],
      "metadata": {
        "colab": {
          "base_uri": "https://localhost:8080/"
        },
        "id": "5hg785nQReJK",
        "outputId": "9b8aa8db-8ad0-49f3-80a0-1d744a54bc67"
      },
      "execution_count": 12,
      "outputs": [
        {
          "output_type": "execute_result",
          "data": {
            "text/plain": [
              "{101: {'Name': 'apple', 'Quantity': 8, 'Price': 50},\n",
              " 102: {'Name': 'orange', 'Quantity': 20, 'Price': 25}}"
            ]
          },
          "metadata": {},
          "execution_count": 12
        }
      ]
    },
    {
      "cell_type": "code",
      "source": [
        "# Raja Sir, wants to buy 2 apples and 2 oranges."
      ],
      "metadata": {
        "id": "luUDpUD3ReGd"
      },
      "execution_count": 13,
      "outputs": []
    },
    {
      "cell_type": "code",
      "source": [
        "# Quantity check\n",
        "db[101]['Quantity'] >= 2"
      ],
      "metadata": {
        "colab": {
          "base_uri": "https://localhost:8080/"
        },
        "id": "XvVg21YdReDm",
        "outputId": "6df01511-fc73-4720-ff47-66f9fd00fa04"
      },
      "execution_count": 14,
      "outputs": [
        {
          "output_type": "execute_result",
          "data": {
            "text/plain": [
              "True"
            ]
          },
          "metadata": {},
          "execution_count": 14
        }
      ]
    },
    {
      "cell_type": "code",
      "source": [
        "db[102]['Quantity'] >= 2"
      ],
      "metadata": {
        "colab": {
          "base_uri": "https://localhost:8080/"
        },
        "id": "E3SQm2p7Rd_G",
        "outputId": "29b72337-6332-443d-f27c-34b061c0d250"
      },
      "execution_count": 15,
      "outputs": [
        {
          "output_type": "execute_result",
          "data": {
            "text/plain": [
              "True"
            ]
          },
          "metadata": {},
          "execution_count": 15
        }
      ]
    },
    {
      "cell_type": "code",
      "source": [
        "# print bill\n",
        "# apple\n",
        "2* db[101][\"Price\"]"
      ],
      "metadata": {
        "colab": {
          "base_uri": "https://localhost:8080/"
        },
        "id": "8caMdpE8Ru-N",
        "outputId": "b012df73-386c-4dd7-9c3b-1c06e6ef5c30"
      },
      "execution_count": 16,
      "outputs": [
        {
          "output_type": "execute_result",
          "data": {
            "text/plain": [
              "100"
            ]
          },
          "metadata": {},
          "execution_count": 16
        }
      ]
    },
    {
      "cell_type": "code",
      "source": [
        "# Orange\n",
        "2* db[102][\"Price\"]"
      ],
      "metadata": {
        "colab": {
          "base_uri": "https://localhost:8080/"
        },
        "id": "8nR__aAcRvla",
        "outputId": "040ff6cf-0445-4213-b681-93feb87dbad4"
      },
      "execution_count": 17,
      "outputs": [
        {
          "output_type": "execute_result",
          "data": {
            "text/plain": [
              "50"
            ]
          },
          "metadata": {},
          "execution_count": 17
        }
      ]
    },
    {
      "cell_type": "code",
      "source": [
        "# Total Bill\n",
        "2* db[101][\"Price\"] + 2* db[102][\"Price\"]"
      ],
      "metadata": {
        "colab": {
          "base_uri": "https://localhost:8080/"
        },
        "id": "dOEtijeRRvii",
        "outputId": "3a2cc273-9c07-41ef-bc52-218a78303cbc"
      },
      "execution_count": 18,
      "outputs": [
        {
          "output_type": "execute_result",
          "data": {
            "text/plain": [
              "150"
            ]
          },
          "metadata": {},
          "execution_count": 18
        }
      ]
    },
    {
      "cell_type": "code",
      "source": [
        "# Updating the Inventory\n",
        "db[101][\"Quantity\"] = db[101][\"Quantity\"] -2"
      ],
      "metadata": {
        "id": "hkdvNEJgRvfq"
      },
      "execution_count": 19,
      "outputs": []
    },
    {
      "cell_type": "code",
      "source": [
        "db"
      ],
      "metadata": {
        "colab": {
          "base_uri": "https://localhost:8080/"
        },
        "id": "EUpUOtJ7R6Va",
        "outputId": "92a72784-e6da-472b-d7f8-88b897b7a893"
      },
      "execution_count": 20,
      "outputs": [
        {
          "output_type": "execute_result",
          "data": {
            "text/plain": [
              "{101: {'Name': 'apple', 'Quantity': 6, 'Price': 50},\n",
              " 102: {'Name': 'orange', 'Quantity': 20, 'Price': 25}}"
            ]
          },
          "metadata": {},
          "execution_count": 20
        }
      ]
    },
    {
      "cell_type": "code",
      "source": [],
      "metadata": {
        "id": "rb56IV99SANN"
      },
      "execution_count": null,
      "outputs": []
    }
  ]
}